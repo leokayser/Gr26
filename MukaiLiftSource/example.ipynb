{
 "cells": [
  {
   "cell_type": "markdown",
   "id": "cfbde009",
   "metadata": {},
   "source": [
    "This Jupyter Notebook accompanies the paper \"Mukai lifting of self-dual points\" by Barbara Betti and Leonie Kayser.\n",
    "The code is in Julia language.\n",
    "The folder $\\texttt{MukaiLiftSource}$ contains all the files and we need to work inside this directory.\n",
    "We describe how to use the package $\\texttt{MukaiLiftP6}$."
   ]
  },
  {
   "cell_type": "code",
   "execution_count": 1,
   "id": "7ab9a16f",
   "metadata": {},
   "outputs": [
    {
     "name": "stderr",
     "output_type": "stream",
     "text": [
      "\u001b[32m\u001b[1m  Activating\u001b[22m\u001b[39m project at `~/Documents/GitHub/Gr26/MukaiLiftSource/MukaiLiftP6`\n"
     ]
    }
   ],
   "source": [
    "using Pkg;\n",
    "Pkg.activate(\"MukaiLiftP6\")"
   ]
  },
  {
   "cell_type": "code",
   "execution_count": null,
   "id": "c187a2fb",
   "metadata": {},
   "outputs": [],
   "source": [
    "using MukaiLiftP6\n",
    "using LinearAlgebra\n",
    "using HomotopyContinuation"
   ]
  },
  {
   "cell_type": "markdown",
   "id": "26bf7d4f",
   "metadata": {},
   "source": [
    "We define the configuration of points as a $7\\times 14$ matrix $\\Gamma$. \n",
    "We prove that it is self-dual by computing the matrix $\\Lambda$ satisfying condition $(ii)$ of Lemma $2.1$ and checking that $\\Gamma\\cdot\\Lambda\\cdot\\Gamma^\\intercal=0$."
   ]
  },
  {
   "cell_type": "code",
   "execution_count": null,
   "id": "748954e4",
   "metadata": {},
   "outputs": [],
   "source": [
    "Gamma = [7 -2 6 -1 -6 1 -9 7 0 6 1 8 -3 7; -1 2 -5 -2 0 -4 3 -3 -4 -3 4 -2 4 -1; 1 4 -1 -5 -3 6 8 -1 -8 -3 5 1 -6 -8; 3 -6 4 -3 -4 6 0 5 8 2 3 2 -8 0; 1 -2 1 0 -4 2 2 3 4 -1 2 2 -2 -2; 0 -6 -5 6 3 7 -3 2 8 -7 -6 -3 -5 5; -3 3 -4 1 4 3 2 -3 -6 -4 -3 -4 -1 -2]\n",
    "Lambda = certify_selfdual(Gamma)\n",
    "norm( Gamma*Lambda*transpose(Gamma), Inf) "
   ]
  },
  {
   "cell_type": "markdown",
   "id": "ca262284",
   "metadata": {},
   "source": [
    "We compute the Orthogonal normal form $\\Gamma_{\\text{ONF}}= [ I | P]$ of $\\Gamma$ together with the linear projective transformation $A$ such that $A\\cdot \\Gamma_{\\text{ONF}}= \\Gamma\\cdot \\Lambda_{\\text{scale}}$."
   ]
  },
  {
   "cell_type": "code",
   "execution_count": null,
   "id": "b3d7a7a3",
   "metadata": {},
   "outputs": [],
   "source": [
    "Gamma_ONF, A, Lambda_scale = orthogonal_normal_form(Gamma)\n",
    "norm(A*Gamma_ONF - Gamma*Lambda_scale, Inf)"
   ]
  },
  {
   "cell_type": "markdown",
   "id": "c0ab464e",
   "metadata": {},
   "source": [
    "The orthogonal normal form of $\\Gamma$ is given by $[I | P]$, where $P$ is the orthogonal matrix:"
   ]
  },
  {
   "cell_type": "code",
   "execution_count": null,
   "id": "6e46ba2c",
   "metadata": {},
   "outputs": [],
   "source": [
    "P = Matrix{Float64}(Gamma_ONF[:,8:14])"
   ]
  },
  {
   "cell_type": "markdown",
   "id": "a39a051c",
   "metadata": {},
   "source": [
    "We compute the Telen norma form $\\Gamma_{\\text{SNF}}$ of $\\Gamma$ using the Cayley transform of $P$."
   ]
  },
  {
   "cell_type": "code",
   "execution_count": null,
   "id": "9b922b02",
   "metadata": {},
   "outputs": [],
   "source": [
    "S = cayley(P)\n",
    "Gamma_SNF = [I+S I-S]"
   ]
  },
  {
   "cell_type": "markdown",
   "id": "c1287e8a",
   "metadata": {},
   "source": [
    "The target parameters $S_{\\text{target}}$ of the homotopy are the entries of the skew-symmetric matrix $S$."
   ]
  },
  {
   "cell_type": "code",
   "execution_count": null,
   "id": "18049f6d",
   "metadata": {},
   "outputs": [],
   "source": [
    "S_target = skew_to_vector(S)"
   ]
  },
  {
   "cell_type": "markdown",
   "id": "bb8cd83a",
   "metadata": {},
   "source": [
    "We solve the mukai lifting problem for $\\Gamma$."
   ]
  },
  {
   "cell_type": "code",
   "execution_count": null,
   "id": "81769f6f",
   "metadata": {},
   "outputs": [],
   "source": [
    "@time result = HomotopyContinuation.solve(parametrized_system, l_start; compile = false, start_parameters=S_start, target_parameters=S_target)"
   ]
  },
  {
   "cell_type": "markdown",
   "id": "61f8383e",
   "metadata": {},
   "source": [
    "We analyze the solution. There is one path tracked with $1429$ steps. \n",
    "The residual is the infinity norm of the vector with the equations evaluated in the computed solution and it is numerically zero."
   ]
  },
  {
   "cell_type": "code",
   "execution_count": null,
   "id": "c02f6a4e",
   "metadata": {},
   "outputs": [],
   "source": [
    "sol = solutions(result)[1]\n",
    "result.path_results"
   ]
  },
  {
   "cell_type": "markdown",
   "id": "323b9399",
   "metadata": {},
   "source": [
    "The embedding $\\widehat L: \\mathbb{P}^6\\simeq \\mathbb{L}\\subseteq \\mathbb{P}^{14} $ such that $\\widehat L(\\Gamma_{\\text{SNF}})=\\mathbb{L}\\cap X_8$ is "
   ]
  },
  {
   "cell_type": "code",
   "execution_count": null,
   "id": "167f5334",
   "metadata": {},
   "outputs": [],
   "source": [
    "L_hat = L_start + sum(sol[i]*A_rand[i] for i in eachindex(l))"
   ]
  },
  {
   "cell_type": "markdown",
   "id": "7a299750",
   "metadata": {},
   "source": [
    "Composing with the previous coordinate transformations $\\Gamma \\leadsto \\Gamma_{\\text{SNF}}$ we obtain $L \\colon \\mathbb{P}^6 \\to \\mathbb{P}^{14}$ such that $L(\\Gamma)= \\mathbb{L}\\cap X_8$"
   ]
  },
  {
   "cell_type": "code",
   "execution_count": null,
   "id": "6bdf14c5",
   "metadata": {},
   "outputs": [],
   "source": [
    "L = L_hat*(I+S)*inv(A)"
   ]
  },
  {
   "cell_type": "markdown",
   "id": "2490e565",
   "metadata": {},
   "source": [
    "We can verify $L(\\Gamma) = \\mathbb{L} \\cap X_8$ by evaluating $ L(\\gamma_i)$ in the Plücker relations."
   ]
  },
  {
   "cell_type": "code",
   "execution_count": null,
   "id": "7308e925",
   "metadata": {},
   "outputs": [],
   "source": [
    "q = poly_to_func(plück_oscar)\n",
    "maximum([ norm(q(L*Gamma[:,i]) ,Inf) for i =1:14])"
   ]
  }
 ],
 "metadata": {
  "kernelspec": {
   "display_name": "Julia 1.9.3",
   "language": "julia",
   "name": "julia-1.9"
  },
  "language_info": {
   "file_extension": ".jl",
   "mimetype": "application/julia",
   "name": "julia",
   "version": "1.9.3"
  }
 },
 "nbformat": 4,
 "nbformat_minor": 5
}
