{
 "cells": [
  {
   "cell_type": "markdown",
   "id": "cfbde009",
   "metadata": {},
   "source": [
    "This Jupyter Notebook accompanies the paper \"Mukai lifting of self-dual points\" by Barbara Betti and Leonie Kayser.\n",
    "The code is in Julia language.\n",
    "The folder Gr26 contains all the files and we need to work inside this directory.\n",
    "We describe how to use the interface in the file $\\texttt{ComputationalExample.jl}$"
   ]
  },
  {
   "cell_type": "code",
   "execution_count": 1,
   "id": "c187a2fb",
   "metadata": {},
   "outputs": [
    {
     "name": "stdout",
     "output_type": "stream",
     "text": [
      "Include Utilities.jl done.\n",
      "Starting solve\n"
     ]
    }
   ],
   "source": [
    "include(\"make_poly_system.jl\")"
   ]
  },
  {
   "cell_type": "markdown",
   "id": "26bf7d4f",
   "metadata": {},
   "source": [
    "We define the configuration of points as a $7\\times 14$ matrix $\\Gamma$. \n",
    "We prove that it is self-dual by computing the matrix $\\Lambda$ satisfying condition $(ii)$ of Lemma $2.1$ and checking that $\\Gamma\\cdot\\Lambda\\cdot\\Gamma^\\intercal=0$."
   ]
  },
  {
   "cell_type": "code",
   "execution_count": 2,
   "id": "748954e4",
   "metadata": {},
   "outputs": [
    {
     "data": {
      "text/plain": [
       "1.7763568394002505e-14"
      ]
     },
     "metadata": {},
     "output_type": "display_data"
    }
   ],
   "source": [
    "Gamma = [7 -2 6 -1 -6 1 -9 7 0 6 1 8 -3 7; -1 2 -5 -2 0 -4 3 -3 -4 -3 4 -2 4 -1; 1 4 -1 -5 -3 6 8 -1 -8 -3 5 1 -6 -8; 3 -6 4 -3 -4 6 0 5 8 2 3 2 -8 0; 1 -2 1 0 -4 2 2 3 4 -1 2 2 -2 -2; 0 -6 -5 6 3 7 -3 2 8 -7 -6 -3 -5 5; -3 3 -4 1 4 3 2 -3 -6 -4 -3 -4 -1 -2]\n",
    "Lambda = self_duality_control(Gamma)\n",
    "norm( Gamma*Lambda*transpose(Gamma), Inf) #1.7763568394002505e-14"
   ]
  },
  {
   "cell_type": "markdown",
   "id": "ca262284",
   "metadata": {},
   "source": [
    "We compute the Orthogonal normal form $\\Gamma_{\\text{ONF}}= [ I | P]$ of $\\Gamma$ together with the linear projective transformation $A$ such that $A\\cdot \\Gamma_{\\text{ONF}}= \\Gamma\\cdot \\Lambda_{\\text{scale}}$."
   ]
  },
  {
   "cell_type": "code",
   "execution_count": 3,
   "id": "b3d7a7a3",
   "metadata": {},
   "outputs": [
    {
     "data": {
      "text/plain": [
       "2.220446049250313e-15"
      ]
     },
     "metadata": {},
     "output_type": "display_data"
    }
   ],
   "source": [
    "Gamma_ONF, A, Lambda_scale = normalize_SApoints(Gamma)\n",
    "norm(A*Gamma_ONF - Gamma*Lambda_scale, Inf)"
   ]
  },
  {
   "cell_type": "markdown",
   "id": "c0ab464e",
   "metadata": {},
   "source": [
    "The orthogonal normal form of $\\Gamma$ is given by $[I | P]$, where $P$ is the orthogonal matrix:"
   ]
  },
  {
   "cell_type": "code",
   "execution_count": 4,
   "id": "6e46ba2c",
   "metadata": {},
   "outputs": [
    {
     "data": {
      "text/plain": [
       "7×7 Matrix{Float64}:\n",
       " -0.339885   0.059965   -0.0924461  …   0.756392   -0.303323    0.391105\n",
       " -0.205214  -0.850587    0.0196552      0.26801     0.19422    -0.292163\n",
       "  0.100775   0.230199    0.811776       0.314816   -0.13109    -0.320813\n",
       "  0.094778   0.318981   -0.408428       0.329141    0.303156   -0.0306488\n",
       " -0.773382   0.0614641   0.155243      -0.374698   -0.160906    0.200883\n",
       "  0.26268   -0.166903   -0.242692   …  -0.071958   -0.855751   -0.155243\n",
       " -0.395103   0.294162   -0.286833       0.0549679  -0.0546348  -0.770301"
      ]
     },
     "metadata": {},
     "output_type": "display_data"
    }
   ],
   "source": [
    "P = Matrix{Float64}(Gamma_ONF[:,8:14])"
   ]
  },
  {
   "cell_type": "markdown",
   "id": "a39a051c",
   "metadata": {},
   "source": [
    "We compute the Telen norma form $\\Gamma_{\\text{TNF}}$ of $\\Gamma$ using the Cayley transform of $P$."
   ]
  },
  {
   "cell_type": "code",
   "execution_count": 5,
   "id": "9b922b02",
   "metadata": {},
   "outputs": [
    {
     "data": {
      "text/plain": [
       "7×14 Matrix{Float64}:\n",
       "  1.0           -1.0   1.0  -1.0623e-14  …    1.0623e-14   1.0   -4.0   -2.0\n",
       "  1.0            1.0   3.0  -2.0              2.0          2.0  -10.0  -12.0\n",
       " -1.0           -3.0   1.0   2.0             -2.0         -1.0    1.0    2.0\n",
       " -6.26471e-15    2.0  -2.0   1.0              1.0          1.0   10.0    6.0\n",
       "  1.0            2.0  -1.0   1.0             -1.0          1.0    4.0    4.0\n",
       " -4.0          -10.0   1.0  10.0         …  -10.0         -4.0    1.0    6.0\n",
       " -2.0          -12.0   2.0   6.0             -6.0         -4.0   -6.0    1.0"
      ]
     },
     "metadata": {},
     "output_type": "display_data"
    }
   ],
   "source": [
    "S = cayley_num(P)\n",
    "Gamma_TNF = [I+S I-S]"
   ]
  },
  {
   "cell_type": "markdown",
   "id": "c1287e8a",
   "metadata": {},
   "source": [
    "The target parameters $S_{\\text{target}}$ of the homotopy are the entries of the skew-symmetric matrix $S$."
   ]
  },
  {
   "cell_type": "code",
   "execution_count": 6,
   "id": "18049f6d",
   "metadata": {},
   "outputs": [
    {
     "data": {
      "text/plain": [
       "21-element Vector{Any}:\n",
       " -0.9999999999999816\n",
       "  0.9999999999999984\n",
       " -1.0623014660713928e-14\n",
       " -1.000000000000007\n",
       "  3.999999999999994\n",
       "  2.000000000000003\n",
       "  2.999999999999989\n",
       " -2.000000000000049\n",
       " -2.00000000000003\n",
       "  9.99999999999996\n",
       "  ⋮\n",
       "  1.0000000000000049\n",
       " -0.9999999999999925\n",
       " -2.0000000000000013\n",
       " -0.9999999999999869\n",
       " -9.999999999999995\n",
       " -6.000000000000012\n",
       " -3.9999999999999893\n",
       " -3.9999999999999964\n",
       " -5.999999999999995"
      ]
     },
     "metadata": {},
     "output_type": "display_data"
    }
   ],
   "source": [
    "S_target = skew_to_vector(S)"
   ]
  },
  {
   "cell_type": "markdown",
   "id": "bb8cd83a",
   "metadata": {},
   "source": [
    "We solve the mukai lifting problem for $\\Gamma$."
   ]
  },
  {
   "cell_type": "code",
   "execution_count": 7,
   "id": "81769f6f",
   "metadata": {},
   "outputs": [
    {
     "name": "stdout",
     "output_type": "stream",
     "text": [
      "9047.253409 seconds (99.90 M allocations: 39.431 GiB, 0.05% gc time, 0.42% compilation time)\n"
     ]
    },
    {
     "data": {
      "text/plain": [
       "Result with 1 solution\n",
       "======================\n",
       "• 1 path tracked\n",
       "• 1 non-singular solution (0 real)\n",
       "• random_seed: 0xa6ea6539\n"
      ]
     },
     "metadata": {},
     "output_type": "display_data"
    }
   ],
   "source": [
    "@time result = HomotopyContinuation.solve(parametrized_system, l_start; compile = false, start_parameters=S_start, target_parameters=S_target)"
   ]
  },
  {
   "cell_type": "markdown",
   "id": "61f8383e",
   "metadata": {},
   "source": [
    "We analyze the solution. There is one path tracked with $1079$ steps. \n",
    "The residual is the infinity norm of the vector with the equations evaluated in the computed solution and it is numerically zero."
   ]
  },
  {
   "cell_type": "code",
   "execution_count": 8,
   "id": "c02f6a4e",
   "metadata": {},
   "outputs": [
    {
     "data": {
      "text/plain": [
       "1-element Vector{PathResult}:\n",
       " PathResult:\n",
       " • return_code → :success\n",
       " • solution → ComplexF64[-0.4652415739281579 - 0.2865770050895295im, -0.28694296468857705 - 0.08952265396807889im, -0.6738593747370126 + 0.021216835899987473im, -0.47724757640333876 - 0.12426946356254813im, -0.6454675297848671 - 0.5609007291135426im, -0.08405064477628926 - 0.12331062200477105im, -0.6773871896287568 + 0.06532917765733204im, -0.5139379670813639 - 0.06695410545886459im, 0.16594392516172118 - 0.15880413216095im, -0.2989250859518971 - 0.6012782615177045im  …  0.10434985714697248 - 0.16453646777594433im, 0.07896135201222454 + 0.18998745075954293im, 0.6419552760391283 - 0.3182212387358177im, 0.1311758542687344 + 0.45500837963572366im, -0.009436977429618057 - 0.3515966817968463im, 0.07545587898445591 - 0.7597376146697274im, -0.8765747452006444 - 0.00723504961959183im, 0.4324862627773761 + 0.014953080505798397im, -0.12037542216180301 + 0.5930088799903245im, -0.2345631254977437 + 0.19083025400802933im]\n",
       " • accuracy → 8.8117e-17\n",
       " • residual → 1.5916e-12\n",
       " • condition_jacobian → 4660.2\n",
       " • steps → 1079 / 0\n",
       " • extended_precision → false\n",
       " • path_number → 1\n"
      ]
     },
     "metadata": {},
     "output_type": "display_data"
    }
   ],
   "source": [
    "sol = solutions(result)[1]\n",
    "result.path_results"
   ]
  },
  {
   "cell_type": "markdown",
   "id": "323b9399",
   "metadata": {},
   "source": [
    "The embedding $\\tilde{L}: \\mathbb{P}^6\\simeq \\tilde{\\mathbb{L}}\\subseteq \\mathbb{P}^{14} $ such that $\\tilde{L}(\\Gamma_{\\text{TNF}})=\\tilde{\\mathbb{L}}\\cap X_8$ is "
   ]
  },
  {
   "cell_type": "code",
   "execution_count": 9,
   "id": "167f5334",
   "metadata": {},
   "outputs": [
    {
     "data": {
      "text/plain": [
       "15×7 Matrix{ComplexF64}:\n",
       "    3.87721+4.27096im     -1.44491+0.0485836im  …    0.318598+0.226528im\n",
       "  -0.796116-2.26852im    -0.348957+0.461082im         1.86542+1.51773im\n",
       "  -0.682399-1.74061im     -1.65865+1.33439im         0.210471-0.793422im\n",
       "   0.889835-0.553925im    -1.38253-1.35753im         0.795178-0.613233im\n",
       "   0.981708+0.174319im    0.658399-1.515im         -0.0199996-0.452267im\n",
       "   0.956598-3.74927im    -0.723506+0.734579im   …    -1.05657+0.814038im\n",
       "    5.10562+3.02439im     -2.10881-2.72143im       -0.0567399+1.56642im\n",
       "   -2.41552+7.52117im      2.40838-1.68051im        -0.605802+0.068553im\n",
       " -0.0562515+4.47278im     0.463555-1.19434im        -0.495033+0.0287591im\n",
       "    3.50952+1.39334im     -1.74228+0.752448im         1.26939+1.97484im\n",
       "   -1.84628+2.56276im     -1.06013-1.57581im    …   -0.737896+2.09892im\n",
       "  -0.830021-0.570781im  0.00222251-0.103254im       -0.746281+1.34095im\n",
       "  -0.756671+0.542051im    -1.86036+0.53758im         0.390078+1.13014im\n",
       "    4.46916+0.257798im    -1.52436-0.960805im        0.121329+0.257146im\n",
       "  -0.868677+5.00185im     0.508382-0.522243im        0.718707+0.000182921im"
      ]
     },
     "metadata": {},
     "output_type": "display_data"
    }
   ],
   "source": [
    "L_tilde = L_start + sum(sol[i]*A_rand[i] for i in eachindex(l))"
   ]
  },
  {
   "cell_type": "markdown",
   "id": "7a299750",
   "metadata": {},
   "source": [
    "Composing with the previous coordinate transformations $\\Gamma \\leadsto \\Gamma_{\\text{TNF}}$ we obtain $L \\colon \\mathbb{P}^6 \\to \\mathbb{P}^{14}$ such that $L(\\Gamma)= \\mathbb{L}\\cap X_8$"
   ]
  },
  {
   "cell_type": "code",
   "execution_count": 24,
   "id": "6bdf14c5",
   "metadata": {},
   "outputs": [
    {
     "data": {
      "text/plain": [
       "15×7 Matrix{ComplexF64}:\n",
       "     0.681938-2.2546im       0.434947-4.87881im   …    1.37201-6.89396im\n",
       "    -0.663032-2.27835im       2.01946-3.86816im       -1.09387-10.5985im\n",
       "      7.48782-2.67873im       12.5994-5.04744im        13.8368-2.96201im\n",
       "      2.18547+7.97662im        3.5589+12.0562im        1.37079+15.1427im\n",
       "     0.442696+4.90245im       0.20094+10.3366im      -0.759927+15.4814im\n",
       " -0.000397946-0.39151im     -0.343535+2.13052im   …    4.58866-0.243977im\n",
       "      1.88071+3.52541im    -0.0118135+8.02399im       -1.93005+6.41123im\n",
       "     -3.34311+0.151845im     -6.43042-4.45052im       -7.02007-8.42508im\n",
       "    -0.461779+0.505302im     -2.17432-0.763614im      -2.23157-0.7486im\n",
       "      2.63379+0.737857im       6.2121+1.34018im         3.3055-9.4354im\n",
       "    -0.979909+1.60535im      0.633436+4.35374im   …    9.48384-1.36294im\n",
       "     -1.18913-0.0848114im    -2.81427+2.12631im        1.11199-1.71366im\n",
       "      5.27986-0.894498im      10.3402+0.228721im       12.6735-3.57929im\n",
       "      2.80587+2.17832im        2.3544+2.70662im       0.495012-0.0393064im\n",
       "     -2.19292+0.198433im    -0.332336-3.96496im       0.239382-8.18262im"
      ]
     },
     "metadata": {},
     "output_type": "display_data"
    }
   ],
   "source": [
    "L = L_tilde*(I+S)*inv(A)"
   ]
  },
  {
   "cell_type": "code",
   "execution_count": 25,
   "id": "7308e925",
   "metadata": {},
   "outputs": [
    {
     "data": {
      "text/plain": [
       "14-element Vector{Float64}:\n",
       " 2.472402853394752e-12\n",
       " 4.38284508304633e-12\n",
       " 1.935234591659331e-12\n",
       " 4.308866131906876e-12\n",
       " 1.5106345774618503e-12\n",
       " 9.094947017729282e-12\n",
       " 6.867475490498216e-12\n",
       " 2.061798643431261e-12\n",
       " 2.4891191322387136e-11\n",
       " 1.131192069076202e-12\n",
       " 2.7528098260906665e-12\n",
       " 1.3802098316021192e-12\n",
       " 1.2085076619694802e-11\n",
       " 6.431098710768743e-12"
      ]
     },
     "metadata": {},
     "output_type": "display_data"
    }
   ],
   "source": [
    "p = poly_to_fp(plück_oscar)\n",
    "[ norm(p(L*Gamma[:,i]) ,Inf) for i =1:14]"
   ]
  }
 ],
 "metadata": {
  "kernelspec": {
   "display_name": "Julia 1.9.3",
   "language": "julia",
   "name": "julia-1.9"
  },
  "language_info": {
   "file_extension": ".jl",
   "mimetype": "application/julia",
   "name": "julia",
   "version": "1.9.3"
  }
 },
 "nbformat": 4,
 "nbformat_minor": 5
}
