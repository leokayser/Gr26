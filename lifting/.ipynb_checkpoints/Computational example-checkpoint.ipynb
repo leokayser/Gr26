{
 "cells": [
  {
   "cell_type": "markdown",
   "id": "cfbde009",
   "metadata": {},
   "source": [
    "This Jupyter Notebook accompanies the paper \"Mukai lifting of self-dual points\" by Barbara Betti and Leonie Kayser.\n",
    "The code is in Julia language.\n",
    "The folder Gr26 contains all the files and we need to work inside this directory.\n",
    "We describe how to use the interface in the file $\\texttt{ComputationalExample.jl}$"
   ]
  },
  {
   "cell_type": "code",
   "execution_count": 1,
   "id": "c187a2fb",
   "metadata": {},
   "outputs": [
    {
     "name": "stdout",
     "output_type": "stream",
     "text": [
      "Include Utilities.jl done.\n",
      "Starting solve\n"
     ]
    }
   ],
   "source": [
    "include(\"make_poly_system.jl\")"
   ]
  },
  {
   "cell_type": "markdown",
   "id": "26bf7d4f",
   "metadata": {},
   "source": [
    "We define the configuration of points as a $7\\times 14$ matrix $\\Gamma$. \n",
    "We prove that it is self-dual by computing the matrix $\\Lambda$ satisfying condition $(ii)$ of Lemma $2.1$ and checking that $\\Gamma\\cdot\\Lambda\\cdot\\Gamma^\\intercal=0$."
   ]
  },
  {
   "cell_type": "code",
   "execution_count": 2,
   "id": "748954e4",
   "metadata": {},
   "outputs": [
    {
     "data": {
      "text/plain": [
       "1.7763568394002505e-14"
      ]
     },
     "metadata": {},
     "output_type": "display_data"
    }
   ],
   "source": [
    "Gamma = [7 -2 6 -1 -6 1 -9 7 0 6 1 8 -3 7; -1 2 -5 -2 0 -4 3 -3 -4 -3 4 -2 4 -1; 1 4 -1 -5 -3 6 8 -1 -8 -3 5 1 -6 -8; 3 -6 4 -3 -4 6 0 5 8 2 3 2 -8 0; 1 -2 1 0 -4 2 2 3 4 -1 2 2 -2 -2; 0 -6 -5 6 3 7 -3 2 8 -7 -6 -3 -5 5; -3 3 -4 1 4 3 2 -3 -6 -4 -3 -4 -1 -2]\n",
    "Lambda = self_duality_control(Gamma)\n",
    "norm( Gamma*Lambda*transpose(Gamma), Inf) #1.7763568394002505e-14"
   ]
  },
  {
   "cell_type": "markdown",
   "id": "ca262284",
   "metadata": {},
   "source": [
    "We compute the Orthogonal normal form $\\Gamma_{\\text{ONF}}= [ I | P]$ of $\\Gamma$ together with the linear projective transformation $A$ such that $A\\cdot \\Gamma_{\\text{ONF}}= \\Gamma\\cdot \\Lambda_{\\text{scale}}$."
   ]
  },
  {
   "cell_type": "code",
   "execution_count": 3,
   "id": "b3d7a7a3",
   "metadata": {},
   "outputs": [
    {
     "data": {
      "text/plain": [
       "2.220446049250313e-15"
      ]
     },
     "metadata": {},
     "output_type": "display_data"
    }
   ],
   "source": [
    "Gamma_ONF, A, Lambda_scale = normalize_SApoints(Gamma)\n",
    "norm(A*Gamma_ONF - Gamma*Lambda_scale, Inf)"
   ]
  },
  {
   "cell_type": "markdown",
   "id": "c0ab464e",
   "metadata": {},
   "source": [
    "The orthogonal normal form of $\\Gamma$ is given by $[I | P]$, where $P$ is the orthogonal matrix:"
   ]
  },
  {
   "cell_type": "code",
   "execution_count": 4,
   "id": "6e46ba2c",
   "metadata": {},
   "outputs": [
    {
     "data": {
      "text/plain": [
       "7×7 Matrix{Float64}:\n",
       " -0.339885   0.059965   -0.0924461  …   0.756392   -0.303323    0.391105\n",
       " -0.205214  -0.850587    0.0196552      0.26801     0.19422    -0.292163\n",
       "  0.100775   0.230199    0.811776       0.314816   -0.13109    -0.320813\n",
       "  0.094778   0.318981   -0.408428       0.329141    0.303156   -0.0306488\n",
       " -0.773382   0.0614641   0.155243      -0.374698   -0.160906    0.200883\n",
       "  0.26268   -0.166903   -0.242692   …  -0.071958   -0.855751   -0.155243\n",
       " -0.395103   0.294162   -0.286833       0.0549679  -0.0546348  -0.770301"
      ]
     },
     "metadata": {},
     "output_type": "display_data"
    }
   ],
   "source": [
    "P = Matrix{Float64}(Gamma_ONF[:,8:14])"
   ]
  },
  {
   "cell_type": "markdown",
   "id": "a39a051c",
   "metadata": {},
   "source": [
    "We compute the Telen norma form $\\Gamma_{\\text{TNF}}$ of $\\Gamma$ using the Cayley transform of $P$."
   ]
  },
  {
   "cell_type": "code",
   "execution_count": 5,
   "id": "9b922b02",
   "metadata": {},
   "outputs": [
    {
     "data": {
      "text/plain": [
       "7×14 Matrix{Float64}:\n",
       "  1.0           -1.0   1.0  -1.0623e-14  …    1.0623e-14   1.0   -4.0   -2.0\n",
       "  1.0            1.0   3.0  -2.0              2.0          2.0  -10.0  -12.0\n",
       " -1.0           -3.0   1.0   2.0             -2.0         -1.0    1.0    2.0\n",
       " -6.26471e-15    2.0  -2.0   1.0              1.0          1.0   10.0    6.0\n",
       "  1.0            2.0  -1.0   1.0             -1.0          1.0    4.0    4.0\n",
       " -4.0          -10.0   1.0  10.0         …  -10.0         -4.0    1.0    6.0\n",
       " -2.0          -12.0   2.0   6.0             -6.0         -4.0   -6.0    1.0"
      ]
     },
     "metadata": {},
     "output_type": "display_data"
    }
   ],
   "source": [
    "S = cayley_num(P)\n",
    "Gamma_TNF = [I+S I-S]"
   ]
  },
  {
   "cell_type": "markdown",
   "id": "c1287e8a",
   "metadata": {},
   "source": [
    "The target parameters $\\texttt{S\\char`_target}$ of the homotopy are the entries of the skew-symmetric matrix $S$."
   ]
  },
  {
   "cell_type": "code",
   "execution_count": 6,
   "id": "18049f6d",
   "metadata": {},
   "outputs": [
    {
     "data": {
      "text/plain": [
       "21-element Vector{Any}:\n",
       " -0.9999999999999816\n",
       "  0.9999999999999984\n",
       " -1.0623014660713928e-14\n",
       " -1.000000000000007\n",
       "  3.999999999999994\n",
       "  2.000000000000003\n",
       "  2.999999999999989\n",
       " -2.000000000000049\n",
       " -2.00000000000003\n",
       "  9.99999999999996\n",
       "  ⋮\n",
       "  1.0000000000000049\n",
       " -0.9999999999999925\n",
       " -2.0000000000000013\n",
       " -0.9999999999999869\n",
       " -9.999999999999995\n",
       " -6.000000000000012\n",
       " -3.9999999999999893\n",
       " -3.9999999999999964\n",
       " -5.999999999999995"
      ]
     },
     "metadata": {},
     "output_type": "display_data"
    }
   ],
   "source": [
    "S_target = skew_to_vector(S)"
   ]
  },
  {
   "cell_type": "markdown",
   "id": "bb8cd83a",
   "metadata": {},
   "source": [
    "We solve the mukai lifting problem for $\\Gamma$."
   ]
  },
  {
   "cell_type": "code",
   "execution_count": 7,
   "id": "81769f6f",
   "metadata": {},
   "outputs": [],
   "source": [
    "@time result = HomotopyContinuation.solve(parametrized_system, l_start; compile = false, start_parameters=S_start, target_parameters=S_target)"
   ]
  },
  {
   "cell_type": "markdown",
   "id": "61f8383e",
   "metadata": {},
   "source": [
    "We analyze the solution. There is one path tracked with .. steps. \n",
    "The residual is the infinity norm of the vector with the equations evaluated in the computed solution and it is numerically zero."
   ]
  },
  {
   "cell_type": "code",
   "execution_count": null,
   "id": "c02f6a4e",
   "metadata": {},
   "outputs": [],
   "source": [
    "sol = solutions(result)[1]\n",
    "result.path_results"
   ]
  },
  {
   "cell_type": "markdown",
   "id": "323b9399",
   "metadata": {},
   "source": [
    "The embedding $\\tilde{L}: \\mathbb{P}^6\\simeq \\mathbb{L}\\subseteq \\mathbb{P}^{14} $ such that $\\tilde{L}(\\Gamma_{\\text{TNF}})=\\mathbb{L}\\cap X_8$ is "
   ]
  },
  {
   "cell_type": "code",
   "execution_count": null,
   "id": "167f5334",
   "metadata": {},
   "outputs": [],
   "source": [
    "L_tilde = L_start + sum(sol[i]*A_rand[i] for i in eachindex(l))"
   ]
  }
 ],
 "metadata": {
  "kernelspec": {
   "display_name": "Julia 1.9.3",
   "language": "julia",
   "name": "julia-1.9"
  },
  "language_info": {
   "file_extension": ".jl",
   "mimetype": "application/julia",
   "name": "julia",
   "version": "1.9.3"
  }
 },
 "nbformat": 4,
 "nbformat_minor": 5
}
